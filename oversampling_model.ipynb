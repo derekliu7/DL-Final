{
 "cells": [
  {
   "cell_type": "code",
   "execution_count": 1,
   "metadata": {},
   "outputs": [
    {
     "name": "stderr",
     "output_type": "stream",
     "text": [
      "Using TensorFlow backend.\n"
     ]
    }
   ],
   "source": [
    "import pandas as pd\n",
    "from keras.preprocessing.image import ImageDataGenerator, array_to_img, img_to_array, load_img\n",
    "from keras.utils.np_utils import to_categorical\n",
    "import numpy as np\n",
    "from sklearn.metrics import confusion_matrix\n",
    "import matplotlib.pyplot as plt\n",
    "from IPython.display import display\n",
    "from keras.models import Model, Sequential\n",
    "from keras.layers import Input, Flatten, Dense, Conv2D, MaxPooling2D, Dropout, Activation\n",
    "from keras.applications.vgg19 import VGG19\n",
    "from keras.applications.resnet50 import ResNet50\n",
    "from keras.applications.inception_v3 import InceptionV3\n",
    "from keras.regularizers import l2\n",
    "from sklearn.utils import compute_class_weight\n",
    "from imblearn.over_sampling import SMOTE\n",
    "%matplotlib inline"
   ]
  },
  {
   "cell_type": "code",
   "execution_count": 2,
   "metadata": {},
   "outputs": [
    {
     "data": {
      "text/html": [
       "<div>\n",
       "<style>\n",
       "    .dataframe thead tr:only-child th {\n",
       "        text-align: right;\n",
       "    }\n",
       "\n",
       "    .dataframe thead th {\n",
       "        text-align: left;\n",
       "    }\n",
       "\n",
       "    .dataframe tbody tr th {\n",
       "        vertical-align: top;\n",
       "    }\n",
       "</style>\n",
       "<table border=\"1\" class=\"dataframe\">\n",
       "  <thead>\n",
       "    <tr style=\"text-align: right;\">\n",
       "      <th></th>\n",
       "      <th>jpg</th>\n",
       "      <th>video</th>\n",
       "      <th>interesting</th>\n",
       "      <th>level</th>\n",
       "      <th>key_frame</th>\n",
       "    </tr>\n",
       "  </thead>\n",
       "  <tbody>\n",
       "    <tr>\n",
       "      <th>0</th>\n",
       "      <td>107_102-113.jpg</td>\n",
       "      <td>video_0</td>\n",
       "      <td>0</td>\n",
       "      <td>0.099801</td>\n",
       "      <td>36</td>\n",
       "    </tr>\n",
       "    <tr>\n",
       "      <th>1</th>\n",
       "      <td>129_114-144.jpg</td>\n",
       "      <td>video_0</td>\n",
       "      <td>0</td>\n",
       "      <td>0.029117</td>\n",
       "      <td>46</td>\n",
       "    </tr>\n",
       "  </tbody>\n",
       "</table>\n",
       "</div>"
      ],
      "text/plain": [
       "               jpg    video  interesting     level  key_frame\n",
       "0  107_102-113.jpg  video_0            0  0.099801         36\n",
       "1  129_114-144.jpg  video_0            0  0.029117         46"
      ]
     },
     "execution_count": 2,
     "metadata": {},
     "output_type": "execute_result"
    }
   ],
   "source": [
    "def flat(list_):\n",
    "    list_a = []\n",
    "    for i in list_:\n",
    "        list_a.append(i.flatten())\n",
    "    return list_a\n",
    "\n",
    "def load_label(path):\n",
    "    label = pd.read_table(path, sep=',', header=None)\n",
    "    label.columns=['video','jpg', 'interesting', 'level', 'key_frame']\n",
    "    label = label.groupby(['jpg'], sort=False, as_index=False).max()\n",
    "    return label\n",
    "\n",
    "train_label = load_label('data/devset-image.txt')\n",
    "test_label = load_label('data/testset-image.txt')\n",
    "\n",
    "train_label.head(2)"
   ]
  },
  {
   "cell_type": "code",
   "execution_count": 3,
   "metadata": {
    "collapsed": true
   },
   "outputs": [],
   "source": [
    "# train = np.load('data/train_array.npy')\n",
    "# train_flat = flat(train)\n",
    "# y = np.array(train_label['interesting'])\n",
    "\n",
    "# a=np.array(train_flat)\n",
    "# y = np.reshape(y, (4942,1))\n",
    "# new_array = np.hstack((a,y))\n",
    "\n",
    "# ind = np.argsort(new_array[:,-1])\n",
    "# new_array = new_array[ind]\n",
    "# np.save('sorted_array', new_array)"
   ]
  },
  {
   "cell_type": "code",
   "execution_count": 4,
   "metadata": {
    "collapsed": true
   },
   "outputs": [],
   "source": [
    "data = np.load('sorted_array.npy')\n",
    "\n",
    "X,y=data[:,:-1], data[:,-1]\n",
    "\n",
    "X=X[2000:]\n",
    "y=y[2000:]"
   ]
  },
  {
   "cell_type": "code",
   "execution_count": 5,
   "metadata": {
    "collapsed": true
   },
   "outputs": [],
   "source": [
    "method = SMOTE(kind='regular')\n",
    "X_res, y_res = method.fit_sample(X, y)"
   ]
  },
  {
   "cell_type": "code",
   "execution_count": 6,
   "metadata": {},
   "outputs": [
    {
     "name": "stdout",
     "output_type": "stream",
     "text": [
      "4942 images for training\n",
      "Counter({0: 2471, 1: 2471})\n"
     ]
    },
    {
     "data": {
      "image/png": "[encoded data removed]",
      "text/plain": [
       "<matplotlib.figure.Figure at 0x7f5d6d30f518>"
      ]
     },
     "metadata": {},
     "output_type": "display_data"
    }
   ],
   "source": [
    "from collections import Counter\n",
    "print('{} images for training'.format(len(y_res)))\n",
    "print(Counter(y_res))\n",
    "plt.hist(y_res);"
   ]
  },
  {
   "cell_type": "code",
   "execution_count": 7,
   "metadata": {
    "collapsed": true
   },
   "outputs": [],
   "source": [
    "train = X_res.reshape((4942, 216, 384, 3))"
   ]
  },
  {
   "cell_type": "code",
   "execution_count": 8,
   "metadata": {},
   "outputs": [],
   "source": [
    "# model = Sequential()\n",
    "# model.add(Conv2D(64, (3, 3), input_shape=(216, 384, 3)))\n",
    "# model.add(Dropout(0.2))\n",
    "# model.add(Activation('relu'))\n",
    "# model.add(MaxPooling2D(pool_size=(2, 2)))\n",
    "\n",
    "# model.add(Conv2D(64, (3, 3)))\n",
    "# model.add(Dropout(0.5))\n",
    "# model.add(Activation('relu'))\n",
    "# model.add(MaxPooling2D(pool_size=(2, 2)))\n",
    "\n",
    "# model.add(Flatten())\n",
    "# model.add(Activation('relu'))\n",
    "# model.add(Dropout(0.9))\n",
    "# model.add(Dense(2, activation='softmax', W_regularizer=l2(0.5)))\n",
    "# model.summary()"
   ]
  },
  {
   "cell_type": "code",
   "execution_count": 9,
   "metadata": {},
   "outputs": [
    {
     "name": "stdout",
     "output_type": "stream",
     "text": [
      "_________________________________________________________________\n",
      "Layer (type)                 Output Shape              Param #   \n",
      "=================================================================\n",
      "input_1 (InputLayer)         (None, 216, 384, 3)       0         \n",
      "_________________________________________________________________\n",
      "block1_conv1 (Conv2D)        (None, 216, 384, 64)      1792      \n",
      "_________________________________________________________________\n",
      "block1_conv2 (Conv2D)        (None, 216, 384, 64)      36928     \n",
      "_________________________________________________________________\n",
      "block1_pool (MaxPooling2D)   (None, 108, 192, 64)      0         \n",
      "_________________________________________________________________\n",
      "block2_conv1 (Conv2D)        (None, 108, 192, 128)     73856     \n",
      "_________________________________________________________________\n",
      "block2_conv2 (Conv2D)        (None, 108, 192, 128)     147584    \n",
      "_________________________________________________________________\n",
      "block2_pool (MaxPooling2D)   (None, 54, 96, 128)       0         \n",
      "_________________________________________________________________\n",
      "block3_conv1 (Conv2D)        (None, 54, 96, 256)       295168    \n",
      "_________________________________________________________________\n",
      "block3_conv2 (Conv2D)        (None, 54, 96, 256)       590080    \n",
      "_________________________________________________________________\n",
      "block3_conv3 (Conv2D)        (None, 54, 96, 256)       590080    \n",
      "_________________________________________________________________\n",
      "block3_conv4 (Conv2D)        (None, 54, 96, 256)       590080    \n",
      "_________________________________________________________________\n",
      "block3_pool (MaxPooling2D)   (None, 27, 48, 256)       0         \n",
      "_________________________________________________________________\n",
      "block4_conv1 (Conv2D)        (None, 27, 48, 512)       1180160   \n",
      "_________________________________________________________________\n",
      "block4_conv2 (Conv2D)        (None, 27, 48, 512)       2359808   \n",
      "_________________________________________________________________\n",
      "block4_conv3 (Conv2D)        (None, 27, 48, 512)       2359808   \n",
      "_________________________________________________________________\n",
      "block4_conv4 (Conv2D)        (None, 27, 48, 512)       2359808   \n",
      "_________________________________________________________________\n",
      "block4_pool (MaxPooling2D)   (None, 13, 24, 512)       0         \n",
      "_________________________________________________________________\n",
      "block5_conv1 (Conv2D)        (None, 13, 24, 512)       2359808   \n",
      "_________________________________________________________________\n",
      "block5_conv2 (Conv2D)        (None, 13, 24, 512)       2359808   \n",
      "_________________________________________________________________\n",
      "block5_conv3 (Conv2D)        (None, 13, 24, 512)       2359808   \n",
      "_________________________________________________________________\n",
      "flatten (Flatten)            (None, 159744)            0         \n",
      "_________________________________________________________________\n",
      "predictions (Dense)          (None, 2)                 319490    \n",
      "=================================================================\n",
      "Total params: 17,984,066.0\n",
      "Trainable params: 17,984,066.0\n",
      "Non-trainable params: 0.0\n",
      "_________________________________________________________________\n"
     ]
    }
   ],
   "source": [
    "vgg = VGG19(weights='imagenet', include_top=False, input_shape=(216, 384, 3))\n",
    "\n",
    "x = Flatten(name='flatten')(vgg.layers[-3].output)\n",
    "x = Dense(2, activation='softmax', name='predictions')(x)\n",
    "\n",
    "model = Model(inputs=vgg.input, outputs=x)\n",
    "\n",
    "model.summary()"
   ]
  },
  {
   "cell_type": "code",
   "execution_count": 10,
   "metadata": {},
   "outputs": [
    {
     "data": {
      "text/html": [
       "<style  type=\"text/css\" >\n",
       "    #T_65e7c000_6b70_11e7_8d3d_42010a8a0003row0_col1 {\n",
       "            background-color:  lightblue;\n",
       "        }    #T_65e7c000_6b70_11e7_8d3d_42010a8a0003row1_col1 {\n",
       "            background-color:  lightblue;\n",
       "        }    #T_65e7c000_6b70_11e7_8d3d_42010a8a0003row2_col1 {\n",
       "            background-color:  lightblue;\n",
       "        }    #T_65e7c000_6b70_11e7_8d3d_42010a8a0003row3_col1 {\n",
       "            background-color:  lightblue;\n",
       "        }    #T_65e7c000_6b70_11e7_8d3d_42010a8a0003row4_col1 {\n",
       "            background-color:  lightblue;\n",
       "        }    #T_65e7c000_6b70_11e7_8d3d_42010a8a0003row5_col1 {\n",
       "            background-color:  lightblue;\n",
       "        }    #T_65e7c000_6b70_11e7_8d3d_42010a8a0003row6_col1 {\n",
       "            background-color:  lightblue;\n",
       "        }    #T_65e7c000_6b70_11e7_8d3d_42010a8a0003row7_col1 {\n",
       "            background-color:  lightblue;\n",
       "        }    #T_65e7c000_6b70_11e7_8d3d_42010a8a0003row8_col1 {\n",
       "            background-color:  lightblue;\n",
       "        }    #T_65e7c000_6b70_11e7_8d3d_42010a8a0003row9_col1 {\n",
       "            background-color:  lightblue;\n",
       "        }    #T_65e7c000_6b70_11e7_8d3d_42010a8a0003row10_col1 {\n",
       "            background-color:  lightblue;\n",
       "        }    #T_65e7c000_6b70_11e7_8d3d_42010a8a0003row11_col1 {\n",
       "            background-color:  lightblue;\n",
       "        }    #T_65e7c000_6b70_11e7_8d3d_42010a8a0003row12_col1 {\n",
       "            background-color:  lightblue;\n",
       "        }    #T_65e7c000_6b70_11e7_8d3d_42010a8a0003row13_col1 {\n",
       "            background-color:  lightblue;\n",
       "        }    #T_65e7c000_6b70_11e7_8d3d_42010a8a0003row14_col1 {\n",
       "            background-color:  lightblue;\n",
       "        }    #T_65e7c000_6b70_11e7_8d3d_42010a8a0003row15_col1 {\n",
       "            background-color:  lightblue;\n",
       "        }    #T_65e7c000_6b70_11e7_8d3d_42010a8a0003row16_col1 {\n",
       "            background-color:  lightblue;\n",
       "        }    #T_65e7c000_6b70_11e7_8d3d_42010a8a0003row17_col1 {\n",
       "            background-color:  lightblue;\n",
       "        }    #T_65e7c000_6b70_11e7_8d3d_42010a8a0003row18_col1 {\n",
       "            background-color:  lightblue;\n",
       "        }    #T_65e7c000_6b70_11e7_8d3d_42010a8a0003row19_col1 {\n",
       "            background-color:  lightblue;\n",
       "        }    #T_65e7c000_6b70_11e7_8d3d_42010a8a0003row20_col1 {\n",
       "            background-color:  white;\n",
       "        }    #T_65e7c000_6b70_11e7_8d3d_42010a8a0003row21_col1 {\n",
       "            background-color:  white;\n",
       "        }</style>  \n",
       "<table id=\"T_65e7c000_6b70_11e7_8d3d_42010a8a0003\" > \n",
       "<thead>    <tr> \n",
       "        <th class=\"blank level0\" ></th> \n",
       "        <th class=\"col_heading level0 col0\" >layer</th> \n",
       "        <th class=\"col_heading level0 col1\" >trainable</th> \n",
       "    </tr></thead> \n",
       "<tbody>    <tr> \n",
       "        <th id=\"T_65e7c000_6b70_11e7_8d3d_42010a8a0003\" class=\"row_heading level0 row0\" >0</th> \n",
       "        <td id=\"T_65e7c000_6b70_11e7_8d3d_42010a8a0003row0_col0\" class=\"data row0 col0\" >input_1</td> \n",
       "        <td id=\"T_65e7c000_6b70_11e7_8d3d_42010a8a0003row0_col1\" class=\"data row0 col1\" >False</td> \n",
       "    </tr>    <tr> \n",
       "        <th id=\"T_65e7c000_6b70_11e7_8d3d_42010a8a0003\" class=\"row_heading level0 row1\" >1</th> \n",
       "        <td id=\"T_65e7c000_6b70_11e7_8d3d_42010a8a0003row1_col0\" class=\"data row1 col0\" >block1_conv1</td> \n",
       "        <td id=\"T_65e7c000_6b70_11e7_8d3d_42010a8a0003row1_col1\" class=\"data row1 col1\" >False</td> \n",
       "    </tr>    <tr> \n",
       "        <th id=\"T_65e7c000_6b70_11e7_8d3d_42010a8a0003\" class=\"row_heading level0 row2\" >2</th> \n",
       "        <td id=\"T_65e7c000_6b70_11e7_8d3d_42010a8a0003row2_col0\" class=\"data row2 col0\" >block1_conv2</td> \n",
       "        <td id=\"T_65e7c000_6b70_11e7_8d3d_42010a8a0003row2_col1\" class=\"data row2 col1\" >False</td> \n",
       "    </tr>    <tr> \n",
       "        <th id=\"T_65e7c000_6b70_11e7_8d3d_42010a8a0003\" class=\"row_heading level0 row3\" >3</th> \n",
       "        <td id=\"T_65e7c000_6b70_11e7_8d3d_42010a8a0003row3_col0\" class=\"data row3 col0\" >block1_pool</td> \n",
       "        <td id=\"T_65e7c000_6b70_11e7_8d3d_42010a8a0003row3_col1\" class=\"data row3 col1\" >False</td> \n",
       "    </tr>    <tr> \n",
       "        <th id=\"T_65e7c000_6b70_11e7_8d3d_42010a8a0003\" class=\"row_heading level0 row4\" >4</th> \n",
       "        <td id=\"T_65e7c000_6b70_11e7_8d3d_42010a8a0003row4_col0\" class=\"data row4 col0\" >block2_conv1</td> \n",
       "        <td id=\"T_65e7c000_6b70_11e7_8d3d_42010a8a0003row4_col1\" class=\"data row4 col1\" >False</td> \n",
       "    </tr>    <tr> \n",
       "        <th id=\"T_65e7c000_6b70_11e7_8d3d_42010a8a0003\" class=\"row_heading level0 row5\" >5</th> \n",
       "        <td id=\"T_65e7c000_6b70_11e7_8d3d_42010a8a0003row5_col0\" class=\"data row5 col0\" >block2_conv2</td> \n",
       "        <td id=\"T_65e7c000_6b70_11e7_8d3d_42010a8a0003row5_col1\" class=\"data row5 col1\" >False</td> \n",
       "    </tr>    <tr> \n",
       "        <th id=\"T_65e7c000_6b70_11e7_8d3d_42010a8a0003\" class=\"row_heading level0 row6\" >6</th> \n",
       "        <td id=\"T_65e7c000_6b70_11e7_8d3d_42010a8a0003row6_col0\" class=\"data row6 col0\" >block2_pool</td> \n",
       "        <td id=\"T_65e7c000_6b70_11e7_8d3d_42010a8a0003row6_col1\" class=\"data row6 col1\" >False</td> \n",
       "    </tr>    <tr> \n",
       "        <th id=\"T_65e7c000_6b70_11e7_8d3d_42010a8a0003\" class=\"row_heading level0 row7\" >7</th> \n",
       "        <td id=\"T_65e7c000_6b70_11e7_8d3d_42010a8a0003row7_col0\" class=\"data row7 col0\" >block3_conv1</td> \n",
       "        <td id=\"T_65e7c000_6b70_11e7_8d3d_42010a8a0003row7_col1\" class=\"data row7 col1\" >False</td> \n",
       "    </tr>    <tr> \n",
       "        <th id=\"T_65e7c000_6b70_11e7_8d3d_42010a8a0003\" class=\"row_heading level0 row8\" >8</th> \n",
       "        <td id=\"T_65e7c000_6b70_11e7_8d3d_42010a8a0003row8_col0\" class=\"data row8 col0\" >block3_conv2</td> \n",
       "        <td id=\"T_65e7c000_6b70_11e7_8d3d_42010a8a0003row8_col1\" class=\"data row8 col1\" >False</td> \n",
       "    </tr>    <tr> \n",
       "        <th id=\"T_65e7c000_6b70_11e7_8d3d_42010a8a0003\" class=\"row_heading level0 row9\" >9</th> \n",
       "        <td id=\"T_65e7c000_6b70_11e7_8d3d_42010a8a0003row9_col0\" class=\"data row9 col0\" >block3_conv3</td> \n",
       "        <td id=\"T_65e7c000_6b70_11e7_8d3d_42010a8a0003row9_col1\" class=\"data row9 col1\" >False</td> \n",
       "    </tr>    <tr> \n",
       "        <th id=\"T_65e7c000_6b70_11e7_8d3d_42010a8a0003\" class=\"row_heading level0 row10\" >10</th> \n",
       "        <td id=\"T_65e7c000_6b70_11e7_8d3d_42010a8a0003row10_col0\" class=\"data row10 col0\" >block3_conv4</td> \n",
       "        <td id=\"T_65e7c000_6b70_11e7_8d3d_42010a8a0003row10_col1\" class=\"data row10 col1\" >False</td> \n",
       "    </tr>    <tr> \n",
       "        <th id=\"T_65e7c000_6b70_11e7_8d3d_42010a8a0003\" class=\"row_heading level0 row11\" >11</th> \n",
       "        <td id=\"T_65e7c000_6b70_11e7_8d3d_42010a8a0003row11_col0\" class=\"data row11 col0\" >block3_pool</td> \n",
       "        <td id=\"T_65e7c000_6b70_11e7_8d3d_42010a8a0003row11_col1\" class=\"data row11 col1\" >False</td> \n",
       "    </tr>    <tr> \n",
       "        <th id=\"T_65e7c000_6b70_11e7_8d3d_42010a8a0003\" class=\"row_heading level0 row12\" >12</th> \n",
       "        <td id=\"T_65e7c000_6b70_11e7_8d3d_42010a8a0003row12_col0\" class=\"data row12 col0\" >block4_conv1</td> \n",
       "        <td id=\"T_65e7c000_6b70_11e7_8d3d_42010a8a0003row12_col1\" class=\"data row12 col1\" >False</td> \n",
       "    </tr>    <tr> \n",
       "        <th id=\"T_65e7c000_6b70_11e7_8d3d_42010a8a0003\" class=\"row_heading level0 row13\" >13</th> \n",
       "        <td id=\"T_65e7c000_6b70_11e7_8d3d_42010a8a0003row13_col0\" class=\"data row13 col0\" >block4_conv2</td> \n",
       "        <td id=\"T_65e7c000_6b70_11e7_8d3d_42010a8a0003row13_col1\" class=\"data row13 col1\" >False</td> \n",
       "    </tr>    <tr> \n",
       "        <th id=\"T_65e7c000_6b70_11e7_8d3d_42010a8a0003\" class=\"row_heading level0 row14\" >14</th> \n",
       "        <td id=\"T_65e7c000_6b70_11e7_8d3d_42010a8a0003row14_col0\" class=\"data row14 col0\" >block4_conv3</td> \n",
       "        <td id=\"T_65e7c000_6b70_11e7_8d3d_42010a8a0003row14_col1\" class=\"data row14 col1\" >False</td> \n",
       "    </tr>    <tr> \n",
       "        <th id=\"T_65e7c000_6b70_11e7_8d3d_42010a8a0003\" class=\"row_heading level0 row15\" >15</th> \n",
       "        <td id=\"T_65e7c000_6b70_11e7_8d3d_42010a8a0003row15_col0\" class=\"data row15 col0\" >block4_conv4</td> \n",
       "        <td id=\"T_65e7c000_6b70_11e7_8d3d_42010a8a0003row15_col1\" class=\"data row15 col1\" >False</td> \n",
       "    </tr>    <tr> \n",
       "        <th id=\"T_65e7c000_6b70_11e7_8d3d_42010a8a0003\" class=\"row_heading level0 row16\" >16</th> \n",
       "        <td id=\"T_65e7c000_6b70_11e7_8d3d_42010a8a0003row16_col0\" class=\"data row16 col0\" >block4_pool</td> \n",
       "        <td id=\"T_65e7c000_6b70_11e7_8d3d_42010a8a0003row16_col1\" class=\"data row16 col1\" >False</td> \n",
       "    </tr>    <tr> \n",
       "        <th id=\"T_65e7c000_6b70_11e7_8d3d_42010a8a0003\" class=\"row_heading level0 row17\" >17</th> \n",
       "        <td id=\"T_65e7c000_6b70_11e7_8d3d_42010a8a0003row17_col0\" class=\"data row17 col0\" >block5_conv1</td> \n",
       "        <td id=\"T_65e7c000_6b70_11e7_8d3d_42010a8a0003row17_col1\" class=\"data row17 col1\" >False</td> \n",
       "    </tr>    <tr> \n",
       "        <th id=\"T_65e7c000_6b70_11e7_8d3d_42010a8a0003\" class=\"row_heading level0 row18\" >18</th> \n",
       "        <td id=\"T_65e7c000_6b70_11e7_8d3d_42010a8a0003row18_col0\" class=\"data row18 col0\" >block5_conv2</td> \n",
       "        <td id=\"T_65e7c000_6b70_11e7_8d3d_42010a8a0003row18_col1\" class=\"data row18 col1\" >False</td> \n",
       "    </tr>    <tr> \n",
       "        <th id=\"T_65e7c000_6b70_11e7_8d3d_42010a8a0003\" class=\"row_heading level0 row19\" >19</th> \n",
       "        <td id=\"T_65e7c000_6b70_11e7_8d3d_42010a8a0003row19_col0\" class=\"data row19 col0\" >block5_conv3</td> \n",
       "        <td id=\"T_65e7c000_6b70_11e7_8d3d_42010a8a0003row19_col1\" class=\"data row19 col1\" >False</td> \n",
       "    </tr>    <tr> \n",
       "        <th id=\"T_65e7c000_6b70_11e7_8d3d_42010a8a0003\" class=\"row_heading level0 row20\" >20</th> \n",
       "        <td id=\"T_65e7c000_6b70_11e7_8d3d_42010a8a0003row20_col0\" class=\"data row20 col0\" >flatten</td> \n",
       "        <td id=\"T_65e7c000_6b70_11e7_8d3d_42010a8a0003row20_col1\" class=\"data row20 col1\" >True</td> \n",
       "    </tr>    <tr> \n",
       "        <th id=\"T_65e7c000_6b70_11e7_8d3d_42010a8a0003\" class=\"row_heading level0 row21\" >21</th> \n",
       "        <td id=\"T_65e7c000_6b70_11e7_8d3d_42010a8a0003row21_col0\" class=\"data row21 col0\" >predictions</td> \n",
       "        <td id=\"T_65e7c000_6b70_11e7_8d3d_42010a8a0003row21_col1\" class=\"data row21 col1\" >True</td> \n",
       "    </tr></tbody> \n",
       "</table> "
      ],
      "text/plain": [
       "<pandas.io.formats.style.Styler at 0x7f5d6d227c18>"
      ]
     },
     "execution_count": 10,
     "metadata": {},
     "output_type": "execute_result"
    }
   ],
   "source": [
    "for layer in model.layers:\n",
    "    if layer.name in ['flatten','predictions']:\n",
    "        continue\n",
    "    layer.trainable = False\n",
    "\n",
    "df = pd.DataFrame(([layer.name, layer.trainable] for layer in model.layers), columns=['layer', 'trainable'])\n",
    "df.style.applymap(lambda trainable: f'background-color: {\"white\" if trainable else \"lightblue\"}', subset=['trainable'])"
   ]
  },
  {
   "cell_type": "code",
   "execution_count": 11,
   "metadata": {},
   "outputs": [
    {
     "name": "stdout",
     "output_type": "stream",
     "text": [
      "Train on 4447 samples, validate on 495 samples\n",
      "Epoch 1/5\n",
      "4447/4447 [==============================] - 4064s - loss: 8.8862 - acc: 0.4446 - val_loss: 1.0960e-07 - val_acc: 1.0000\n",
      "Epoch 2/5\n",
      "4447/4447 [==============================] - 4077s - loss: 8.9073 - acc: 0.4443 - val_loss: 1.0960e-07 - val_acc: 1.0000\n",
      "Epoch 3/5\n",
      "4416/4447 [============================>.] - ETA: 25s - loss: 8.8972 - acc: 0.4450"
     ]
    },
    {
     "ename": "KeyboardInterrupt",
     "evalue": "",
     "output_type": "error",
     "traceback": [
      "\u001b[0;31m---------------------------------------------------------------------------\u001b[0m",
      "\u001b[0;31mKeyboardInterrupt\u001b[0m                         Traceback (most recent call last)",
      "\u001b[0;32m<ipython-input-11-46438387c36f>\u001b[0m in \u001b[0;36m<module>\u001b[0;34m()\u001b[0m\n\u001b[1;32m      6\u001b[0m                     \u001b[0mto_categorical\u001b[0m\u001b[0;34m(\u001b[0m\u001b[0my_res\u001b[0m\u001b[0;34m)\u001b[0m\u001b[0;34m,\u001b[0m\u001b[0;34m\u001b[0m\u001b[0m\n\u001b[1;32m      7\u001b[0m                     \u001b[0mvalidation_split\u001b[0m\u001b[0;34m=\u001b[0m\u001b[0;36m.1\u001b[0m\u001b[0;34m,\u001b[0m\u001b[0;34m\u001b[0m\u001b[0m\n\u001b[0;32m----> 8\u001b[0;31m                     epochs=5)\n\u001b[0m",
      "\u001b[0;32m~/anaconda3/envs/dl/lib/python3.6/site-packages/keras/engine/training.py\u001b[0m in \u001b[0;36mfit\u001b[0;34m(self, x, y, batch_size, epochs, verbose, callbacks, validation_split, validation_data, shuffle, class_weight, sample_weight, initial_epoch, **kwargs)\u001b[0m\n\u001b[1;32m   1483\u001b[0m                               \u001b[0mval_f\u001b[0m\u001b[0;34m=\u001b[0m\u001b[0mval_f\u001b[0m\u001b[0;34m,\u001b[0m \u001b[0mval_ins\u001b[0m\u001b[0;34m=\u001b[0m\u001b[0mval_ins\u001b[0m\u001b[0;34m,\u001b[0m \u001b[0mshuffle\u001b[0m\u001b[0;34m=\u001b[0m\u001b[0mshuffle\u001b[0m\u001b[0;34m,\u001b[0m\u001b[0;34m\u001b[0m\u001b[0m\n\u001b[1;32m   1484\u001b[0m                               \u001b[0mcallback_metrics\u001b[0m\u001b[0;34m=\u001b[0m\u001b[0mcallback_metrics\u001b[0m\u001b[0;34m,\u001b[0m\u001b[0;34m\u001b[0m\u001b[0m\n\u001b[0;32m-> 1485\u001b[0;31m                               initial_epoch=initial_epoch)\n\u001b[0m\u001b[1;32m   1486\u001b[0m \u001b[0;34m\u001b[0m\u001b[0m\n\u001b[1;32m   1487\u001b[0m     \u001b[0;32mdef\u001b[0m \u001b[0mevaluate\u001b[0m\u001b[0;34m(\u001b[0m\u001b[0mself\u001b[0m\u001b[0;34m,\u001b[0m \u001b[0mx\u001b[0m\u001b[0;34m,\u001b[0m \u001b[0my\u001b[0m\u001b[0;34m,\u001b[0m \u001b[0mbatch_size\u001b[0m\u001b[0;34m=\u001b[0m\u001b[0;36m32\u001b[0m\u001b[0;34m,\u001b[0m \u001b[0mverbose\u001b[0m\u001b[0;34m=\u001b[0m\u001b[0;36m1\u001b[0m\u001b[0;34m,\u001b[0m \u001b[0msample_weight\u001b[0m\u001b[0;34m=\u001b[0m\u001b[0;32mNone\u001b[0m\u001b[0;34m)\u001b[0m\u001b[0;34m:\u001b[0m\u001b[0;34m\u001b[0m\u001b[0m\n",
      "\u001b[0;32m~/anaconda3/envs/dl/lib/python3.6/site-packages/keras/engine/training.py\u001b[0m in \u001b[0;36m_fit_loop\u001b[0;34m(self, f, ins, out_labels, batch_size, epochs, verbose, callbacks, val_f, val_ins, shuffle, callback_metrics, initial_epoch)\u001b[0m\n\u001b[1;32m   1152\u001b[0m                         val_outs = self._test_loop(val_f, val_ins,\n\u001b[1;32m   1153\u001b[0m                                                    \u001b[0mbatch_size\u001b[0m\u001b[0;34m=\u001b[0m\u001b[0mbatch_size\u001b[0m\u001b[0;34m,\u001b[0m\u001b[0;34m\u001b[0m\u001b[0m\n\u001b[0;32m-> 1154\u001b[0;31m                                                    verbose=0)\n\u001b[0m\u001b[1;32m   1155\u001b[0m                         \u001b[0;32mif\u001b[0m \u001b[0;32mnot\u001b[0m \u001b[0misinstance\u001b[0m\u001b[0;34m(\u001b[0m\u001b[0mval_outs\u001b[0m\u001b[0;34m,\u001b[0m \u001b[0mlist\u001b[0m\u001b[0;34m)\u001b[0m\u001b[0;34m:\u001b[0m\u001b[0;34m\u001b[0m\u001b[0m\n\u001b[1;32m   1156\u001b[0m                             \u001b[0mval_outs\u001b[0m \u001b[0;34m=\u001b[0m \u001b[0;34m[\u001b[0m\u001b[0mval_outs\u001b[0m\u001b[0;34m]\u001b[0m\u001b[0;34m\u001b[0m\u001b[0m\n",
      "\u001b[0;32m~/anaconda3/envs/dl/lib/python3.6/site-packages/keras/engine/training.py\u001b[0m in \u001b[0;36m_test_loop\u001b[0;34m(self, f, ins, batch_size, verbose)\u001b[0m\n\u001b[1;32m   1254\u001b[0m                 \u001b[0mins_batch\u001b[0m \u001b[0;34m=\u001b[0m \u001b[0m_slice_arrays\u001b[0m\u001b[0;34m(\u001b[0m\u001b[0mins\u001b[0m\u001b[0;34m,\u001b[0m \u001b[0mbatch_ids\u001b[0m\u001b[0;34m)\u001b[0m\u001b[0;34m\u001b[0m\u001b[0m\n\u001b[1;32m   1255\u001b[0m \u001b[0;34m\u001b[0m\u001b[0m\n\u001b[0;32m-> 1256\u001b[0;31m             \u001b[0mbatch_outs\u001b[0m \u001b[0;34m=\u001b[0m \u001b[0mf\u001b[0m\u001b[0;34m(\u001b[0m\u001b[0mins_batch\u001b[0m\u001b[0;34m)\u001b[0m\u001b[0;34m\u001b[0m\u001b[0m\n\u001b[0m\u001b[1;32m   1257\u001b[0m             \u001b[0;32mif\u001b[0m \u001b[0misinstance\u001b[0m\u001b[0;34m(\u001b[0m\u001b[0mbatch_outs\u001b[0m\u001b[0;34m,\u001b[0m \u001b[0mlist\u001b[0m\u001b[0;34m)\u001b[0m\u001b[0;34m:\u001b[0m\u001b[0;34m\u001b[0m\u001b[0m\n\u001b[1;32m   1258\u001b[0m                 \u001b[0;32mif\u001b[0m \u001b[0mbatch_index\u001b[0m \u001b[0;34m==\u001b[0m \u001b[0;36m0\u001b[0m\u001b[0;34m:\u001b[0m\u001b[0;34m\u001b[0m\u001b[0m\n",
      "\u001b[0;32m~/anaconda3/envs/dl/lib/python3.6/site-packages/keras/backend/tensorflow_backend.py\u001b[0m in \u001b[0;36m__call__\u001b[0;34m(self, inputs)\u001b[0m\n\u001b[1;32m   2071\u001b[0m         \u001b[0msession\u001b[0m \u001b[0;34m=\u001b[0m \u001b[0mget_session\u001b[0m\u001b[0;34m(\u001b[0m\u001b[0;34m)\u001b[0m\u001b[0;34m\u001b[0m\u001b[0m\n\u001b[1;32m   2072\u001b[0m         updated = session.run(self.outputs + [self.updates_op],\n\u001b[0;32m-> 2073\u001b[0;31m                               feed_dict=feed_dict)\n\u001b[0m\u001b[1;32m   2074\u001b[0m         \u001b[0;32mreturn\u001b[0m \u001b[0mupdated\u001b[0m\u001b[0;34m[\u001b[0m\u001b[0;34m:\u001b[0m\u001b[0mlen\u001b[0m\u001b[0;34m(\u001b[0m\u001b[0mself\u001b[0m\u001b[0;34m.\u001b[0m\u001b[0moutputs\u001b[0m\u001b[0;34m)\u001b[0m\u001b[0;34m]\u001b[0m\u001b[0;34m\u001b[0m\u001b[0m\n\u001b[1;32m   2075\u001b[0m \u001b[0;34m\u001b[0m\u001b[0m\n",
      "\u001b[0;32m~/anaconda3/envs/dl/lib/python3.6/site-packages/tensorflow/python/client/session.py\u001b[0m in \u001b[0;36mrun\u001b[0;34m(self, fetches, feed_dict, options, run_metadata)\u001b[0m\n\u001b[1;32m    776\u001b[0m     \u001b[0;32mtry\u001b[0m\u001b[0;34m:\u001b[0m\u001b[0;34m\u001b[0m\u001b[0m\n\u001b[1;32m    777\u001b[0m       result = self._run(None, fetches, feed_dict, options_ptr,\n\u001b[0;32m--> 778\u001b[0;31m                          run_metadata_ptr)\n\u001b[0m\u001b[1;32m    779\u001b[0m       \u001b[0;32mif\u001b[0m \u001b[0mrun_metadata\u001b[0m\u001b[0;34m:\u001b[0m\u001b[0;34m\u001b[0m\u001b[0m\n\u001b[1;32m    780\u001b[0m         \u001b[0mproto_data\u001b[0m \u001b[0;34m=\u001b[0m \u001b[0mtf_session\u001b[0m\u001b[0;34m.\u001b[0m\u001b[0mTF_GetBuffer\u001b[0m\u001b[0;34m(\u001b[0m\u001b[0mrun_metadata_ptr\u001b[0m\u001b[0;34m)\u001b[0m\u001b[0;34m\u001b[0m\u001b[0m\n",
      "\u001b[0;32m~/anaconda3/envs/dl/lib/python3.6/site-packages/tensorflow/python/client/session.py\u001b[0m in \u001b[0;36m_run\u001b[0;34m(self, handle, fetches, feed_dict, options, run_metadata)\u001b[0m\n\u001b[1;32m    980\u001b[0m     \u001b[0;32mif\u001b[0m \u001b[0mfinal_fetches\u001b[0m \u001b[0;32mor\u001b[0m \u001b[0mfinal_targets\u001b[0m\u001b[0;34m:\u001b[0m\u001b[0;34m\u001b[0m\u001b[0m\n\u001b[1;32m    981\u001b[0m       results = self._do_run(handle, final_targets, final_fetches,\n\u001b[0;32m--> 982\u001b[0;31m                              feed_dict_string, options, run_metadata)\n\u001b[0m\u001b[1;32m    983\u001b[0m     \u001b[0;32melse\u001b[0m\u001b[0;34m:\u001b[0m\u001b[0;34m\u001b[0m\u001b[0m\n\u001b[1;32m    984\u001b[0m       \u001b[0mresults\u001b[0m \u001b[0;34m=\u001b[0m \u001b[0;34m[\u001b[0m\u001b[0;34m]\u001b[0m\u001b[0;34m\u001b[0m\u001b[0m\n",
      "\u001b[0;32m~/anaconda3/envs/dl/lib/python3.6/site-packages/tensorflow/python/client/session.py\u001b[0m in \u001b[0;36m_do_run\u001b[0;34m(self, handle, target_list, fetch_list, feed_dict, options, run_metadata)\u001b[0m\n\u001b[1;32m   1030\u001b[0m     \u001b[0;32mif\u001b[0m \u001b[0mhandle\u001b[0m \u001b[0;32mis\u001b[0m \u001b[0;32mNone\u001b[0m\u001b[0;34m:\u001b[0m\u001b[0;34m\u001b[0m\u001b[0m\n\u001b[1;32m   1031\u001b[0m       return self._do_call(_run_fn, self._session, feed_dict, fetch_list,\n\u001b[0;32m-> 1032\u001b[0;31m                            target_list, options, run_metadata)\n\u001b[0m\u001b[1;32m   1033\u001b[0m     \u001b[0;32melse\u001b[0m\u001b[0;34m:\u001b[0m\u001b[0;34m\u001b[0m\u001b[0m\n\u001b[1;32m   1034\u001b[0m       return self._do_call(_prun_fn, self._session, handle, feed_dict,\n",
      "\u001b[0;32m~/anaconda3/envs/dl/lib/python3.6/site-packages/tensorflow/python/client/session.py\u001b[0m in \u001b[0;36m_do_call\u001b[0;34m(self, fn, *args)\u001b[0m\n\u001b[1;32m   1037\u001b[0m   \u001b[0;32mdef\u001b[0m \u001b[0m_do_call\u001b[0m\u001b[0;34m(\u001b[0m\u001b[0mself\u001b[0m\u001b[0;34m,\u001b[0m \u001b[0mfn\u001b[0m\u001b[0;34m,\u001b[0m \u001b[0;34m*\u001b[0m\u001b[0margs\u001b[0m\u001b[0;34m)\u001b[0m\u001b[0;34m:\u001b[0m\u001b[0;34m\u001b[0m\u001b[0m\n\u001b[1;32m   1038\u001b[0m     \u001b[0;32mtry\u001b[0m\u001b[0;34m:\u001b[0m\u001b[0;34m\u001b[0m\u001b[0m\n\u001b[0;32m-> 1039\u001b[0;31m       \u001b[0;32mreturn\u001b[0m \u001b[0mfn\u001b[0m\u001b[0;34m(\u001b[0m\u001b[0;34m*\u001b[0m\u001b[0margs\u001b[0m\u001b[0;34m)\u001b[0m\u001b[0;34m\u001b[0m\u001b[0m\n\u001b[0m\u001b[1;32m   1040\u001b[0m     \u001b[0;32mexcept\u001b[0m \u001b[0merrors\u001b[0m\u001b[0;34m.\u001b[0m\u001b[0mOpError\u001b[0m \u001b[0;32mas\u001b[0m \u001b[0me\u001b[0m\u001b[0;34m:\u001b[0m\u001b[0;34m\u001b[0m\u001b[0m\n\u001b[1;32m   1041\u001b[0m       \u001b[0mmessage\u001b[0m \u001b[0;34m=\u001b[0m \u001b[0mcompat\u001b[0m\u001b[0;34m.\u001b[0m\u001b[0mas_text\u001b[0m\u001b[0;34m(\u001b[0m\u001b[0me\u001b[0m\u001b[0;34m.\u001b[0m\u001b[0mmessage\u001b[0m\u001b[0;34m)\u001b[0m\u001b[0;34m\u001b[0m\u001b[0m\n",
      "\u001b[0;32m~/anaconda3/envs/dl/lib/python3.6/site-packages/tensorflow/python/client/session.py\u001b[0m in \u001b[0;36m_run_fn\u001b[0;34m(session, feed_dict, fetch_list, target_list, options, run_metadata)\u001b[0m\n\u001b[1;32m   1019\u001b[0m         return tf_session.TF_Run(session, options,\n\u001b[1;32m   1020\u001b[0m                                  \u001b[0mfeed_dict\u001b[0m\u001b[0;34m,\u001b[0m \u001b[0mfetch_list\u001b[0m\u001b[0;34m,\u001b[0m \u001b[0mtarget_list\u001b[0m\u001b[0;34m,\u001b[0m\u001b[0;34m\u001b[0m\u001b[0m\n\u001b[0;32m-> 1021\u001b[0;31m                                  status, run_metadata)\n\u001b[0m\u001b[1;32m   1022\u001b[0m \u001b[0;34m\u001b[0m\u001b[0m\n\u001b[1;32m   1023\u001b[0m     \u001b[0;32mdef\u001b[0m \u001b[0m_prun_fn\u001b[0m\u001b[0;34m(\u001b[0m\u001b[0msession\u001b[0m\u001b[0;34m,\u001b[0m \u001b[0mhandle\u001b[0m\u001b[0;34m,\u001b[0m \u001b[0mfeed_dict\u001b[0m\u001b[0;34m,\u001b[0m \u001b[0mfetch_list\u001b[0m\u001b[0;34m)\u001b[0m\u001b[0;34m:\u001b[0m\u001b[0;34m\u001b[0m\u001b[0m\n",
      "\u001b[0;31mKeyboardInterrupt\u001b[0m: "
     ]
    }
   ],
   "source": [
    "model.compile(loss='binary_crossentropy',\n",
    "              optimizer='adam',\n",
    "             metrics=['accuracy'])\n",
    "\n",
    "history = model.fit(train, \n",
    "                    to_categorical(y_res),\n",
    "                    validation_split=.1, \n",
    "                    epochs=5)"
   ]
  },
  {
   "cell_type": "code",
   "execution_count": 24,
   "metadata": {
    "collapsed": true
   },
   "outputs": [],
   "source": [
    "test = np.load('data/test_array.npy')\n",
    "y_test = np.array(test_label['interesting'])"
   ]
  },
  {
   "cell_type": "code",
   "execution_count": 26,
   "metadata": {
    "collapsed": true
   },
   "outputs": [],
   "source": [
    "preds = model.predict(test)"
   ]
  },
  {
   "cell_type": "code",
   "execution_count": 28,
   "metadata": {},
   "outputs": [
    {
     "name": "stdout",
     "output_type": "stream",
     "text": [
      "Counter({0: 2274, 1: 40}) 0.88202247191\n"
     ]
    },
    {
     "data": {
      "image/png": "[encoded data removed]",
      "text/plain": [
       "<matplotlib.figure.Figure at 0x7f65546cf630>"
      ]
     },
     "metadata": {},
     "output_type": "display_data"
    }
   ],
   "source": [
    "outcome = np.argmax(preds, axis=1)\n",
    "plt.hist(np.argmax(preds, axis=1))\n",
    "print(Counter(outcome), sum(outcome==y_test)/len(y_test))\n",
    "plt.show()"
   ]
  },
  {
   "cell_type": "code",
   "execution_count": 34,
   "metadata": {},
   "outputs": [
    {
     "data": {
      "image/png": "[encoded data removed]",
      "text/plain": [
       "<matplotlib.figure.Figure at 0x7f6566f9f320>"
      ]
     },
     "metadata": {},
     "output_type": "display_data"
    }
   ],
   "source": [
    "pd.DataFrame(history.history).plot();"
   ]
  },
  {
   "cell_type": "code",
   "execution_count": 37,
   "metadata": {},
   "outputs": [
    {
     "data": {
      "text/plain": [
       "array([[2037,   36],\n",
       "       [ 237,    4]])"
      ]
     },
     "execution_count": 37,
     "metadata": {},
     "output_type": "execute_result"
    }
   ],
   "source": [
    "confusion_matrix(y_test, outcome)"
   ]
  }
 ],
 "metadata": {
  "kernelspec": {
   "display_name": "Python 3",
   "language": "python",
   "name": "python3"
  },
  "language_info": {
   "codemirror_mode": {
    "name": "ipython",
    "version": 3
   },
   "file_extension": ".py",
   "mimetype": "text/x-python",
   "name": "python",
   "nbconvert_exporter": "python",
   "pygments_lexer": "ipython3",
   "version": "3.6.1"
  }
 },
 "nbformat": 4,
 "nbformat_minor": 2
}
